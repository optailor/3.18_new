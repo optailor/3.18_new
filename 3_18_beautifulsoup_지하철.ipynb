{
  "nbformat": 4,
  "nbformat_minor": 0,
  "metadata": {
    "colab": {
      "provenance": [],
      "include_colab_link": true
    },
    "kernelspec": {
      "name": "python3",
      "display_name": "Python 3"
    },
    "language_info": {
      "name": "python"
    }
  },
  "cells": [
    {
      "cell_type": "markdown",
      "metadata": {
        "id": "view-in-github",
        "colab_type": "text"
      },
      "source": [
        "<a href=\"https://colab.research.google.com/github/optailor/3.18_new/blob/main/3_18_beautifulsoup_%EC%A7%80%ED%95%98%EC%B2%A0.ipynb\" target=\"_parent\"><img src=\"https://colab.research.google.com/assets/colab-badge.svg\" alt=\"Open In Colab\"/></a>"
      ]
    },
    {
      "cell_type": "code",
      "source": [
        "import requests\n",
        "from bs4 import BeautifulSoup\n",
        "\n",
        "r = requests.get('http://swopenAPI.seoul.go.kr/api/subway/6b77767264796562343642636c6a63/xml/realtimePosition/0/5/2호선')\n",
        "print(r.text)\n",
        ""
      ],
      "metadata": {
        "colab": {
          "base_uri": "https://localhost:8080/"
        },
        "id": "dyR67Pd1Imrf",
        "outputId": "07f907b5-23e8-4ec9-8d1e-fc9a5ec4b873"
      },
      "execution_count": 16,
      "outputs": [
        {
          "output_type": "stream",
          "name": "stdout",
          "text": [
            "<?xml version=\"1.0\" encoding=\"UTF-8\" standalone=\"yes\"?><realtimePosition><RESULT><code>INFO-000</code><developerMessage></developerMessage><link></link><message>정상 처리되었습니다.</message><status>200</status><total>61</total></RESULT><row><rowNum>1</rowNum><selectedCount>5</selectedCount><totalCount>61</totalCount><subwayId>1002</subwayId><subwayNm>2호선</subwayNm><statnId>1002000203</statnId><statnNm>을지로3가</statnNm><trainNo>2112</trainNo><lastRecptnDt>20240319</lastRecptnDt><recptnDt>2024-03-19 09:35:03</recptnDt><updnLine>0</updnLine><statnTid>1002000211</statnTid><statnTnm>성수종착</statnTnm><trainSttus>1</trainSttus><directAt>0</directAt><lstcarAt>0</lstcarAt></row><row><rowNum>2</rowNum><selectedCount>5</selectedCount><totalCount>61</totalCount><subwayId>1002</subwayId><subwayNm>2호선</subwayNm><statnId>1002000243</statnId><statnNm>충정로</statnNm><trainNo>2114</trainNo><lastRecptnDt>20240319</lastRecptnDt><recptnDt>2024-03-19 09:35:48</recptnDt><updnLine>0</updnLine><statnTid>1002000211</statnTid><statnTnm>성수종착</statnTnm><trainSttus>2</trainSttus><directAt>0</directAt><lstcarAt>0</lstcarAt></row><row><rowNum>3</rowNum><selectedCount>5</selectedCount><totalCount>61</totalCount><subwayId>1002</subwayId><subwayNm>2호선</subwayNm><statnId>1002000232</statnId><statnNm>구로디지털단지</statnNm><trainNo>2137</trainNo><lastRecptnDt>20240319</lastRecptnDt><recptnDt>2024-03-19 09:34:47</recptnDt><updnLine>1</updnLine><statnTid>1002000211</statnTid><statnTnm>성수종착</statnTnm><trainSttus>1</trainSttus><directAt>0</directAt><lstcarAt>0</lstcarAt></row><row><rowNum>4</rowNum><selectedCount>5</selectedCount><totalCount>61</totalCount><subwayId>1002</subwayId><subwayNm>2호선</subwayNm><statnId>1002000232</statnId><statnNm>구로디지털단지</statnNm><trainNo>2128</trainNo><lastRecptnDt>20240319</lastRecptnDt><recptnDt>2024-03-19 09:35:20</recptnDt><updnLine>0</updnLine><statnTid>1002000211</statnTid><statnTnm>성수종착</statnTnm><trainSttus>1</trainSttus><directAt>0</directAt><lstcarAt>0</lstcarAt></row><row><rowNum>5</rowNum><selectedCount>5</selectedCount><totalCount>61</totalCount><subwayId>1002</subwayId><subwayNm>2호선</subwayNm><statnId>1002000240</statnId><statnNm>신촌</statnNm><trainNo>2149</trainNo><lastRecptnDt>20240319</lastRecptnDt><recptnDt>2024-03-19 09:35:56</recptnDt><updnLine>1</updnLine><statnTid>1002000211</statnTid><statnTnm>성수종착</statnTnm><trainSttus>2</trainSttus><directAt>0</directAt><lstcarAt>0</lstcarAt></row></realtimePosition>\n"
          ]
        }
      ]
    },
    {
      "cell_type": "code",
      "source": [
        "soup = BeautifulSoup(r.text, features=\"xml\")"
      ],
      "metadata": {
        "id": "PuobGqpgI33Y"
      },
      "execution_count": 18,
      "outputs": []
    },
    {
      "cell_type": "code",
      "source": [
        "soup.find_all('statnNm')"
      ],
      "metadata": {
        "colab": {
          "base_uri": "https://localhost:8080/"
        },
        "id": "JbNOjzPaI_QY",
        "outputId": "da3e01d7-513f-428d-fc3d-47d376bf96ec"
      },
      "execution_count": 19,
      "outputs": [
        {
          "output_type": "execute_result",
          "data": {
            "text/plain": [
              "[<statnNm>을지로3가</statnNm>,\n",
              " <statnNm>충정로</statnNm>,\n",
              " <statnNm>구로디지털단지</statnNm>,\n",
              " <statnNm>구로디지털단지</statnNm>,\n",
              " <statnNm>신촌</statnNm>]"
            ]
          },
          "metadata": {},
          "execution_count": 19
        }
      ]
    }
  ]
}